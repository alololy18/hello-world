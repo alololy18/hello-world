{
  "nbformat": 4,
  "nbformat_minor": 0,
  "metadata": {
    "colab": {
      "name": "Sandbox.ipynb",
      "version": "0.3.2",
      "provenance": [],
      "include_colab_link": true
    },
    "kernelspec": {
      "name": "python3",
      "display_name": "Python 3"
    }
  },
  "cells": [
    {
      "cell_type": "markdown",
      "metadata": {
        "id": "view-in-github",
        "colab_type": "text"
      },
      "source": [
        "<a href=\"https://colab.research.google.com/github/alololy18/hello-world/blob/master/Sandbox.ipynb\" target=\"_parent\"><img src=\"https://colab.research.google.com/assets/colab-badge.svg\" alt=\"Open In Colab\"/></a>"
      ]
    },
    {
      "cell_type": "code",
      "metadata": {
        "id": "GT3rwzU_YjRM",
        "colab_type": "code",
        "colab": {
          "base_uri": "https://localhost:8080/",
          "height": 129
        },
        "outputId": "a651a6fe-8a28-4562-e62e-141e00f47665"
      },
      "source": [
        "a = input(\"Enter String: \")\n",
        "for i in range(len(a)):\n",
        "  c = (chr(ord(a[i])+2), end='')\n",
        "  if(chr(ord(a[i]+2)) >= 'z'):\n",
        "    c = c - 'z' + 'a'\n",
        "  print(c, end='')\n",
        "\n",
        "\n",
        "#print(len(a))"
      ],
      "execution_count": 40,
      "outputs": [
        {
          "output_type": "error",
          "ename": "SyntaxError",
          "evalue": "ignored",
          "traceback": [
            "\u001b[0;36m  File \u001b[0;32m\"<ipython-input-40-800490b6e7a3>\"\u001b[0;36m, line \u001b[0;32m3\u001b[0m\n\u001b[0;31m    c = (chr(ord(a[i])+2), end='')\u001b[0m\n\u001b[0m                              ^\u001b[0m\n\u001b[0;31mSyntaxError\u001b[0m\u001b[0;31m:\u001b[0m invalid syntax\n"
          ]
        }
      ]
    },
    {
      "cell_type": "code",
      "metadata": {
        "id": "nG0mGYv4cIPg",
        "colab_type": "code",
        "colab": {
          "base_uri": "https://localhost:8080/",
          "height": 34
        },
        "outputId": "fc4a0ba2-ccc3-4181-e04b-e714f0466e89"
      },
      "source": [
        "pip show"
      ],
      "execution_count": 44,
      "outputs": [
        {
          "output_type": "stream",
          "text": [
            "\u001b[33mWARNING: ERROR: Please provide a package name or names.\u001b[0m\n"
          ],
          "name": "stdout"
        }
      ]
    }
  ]
}